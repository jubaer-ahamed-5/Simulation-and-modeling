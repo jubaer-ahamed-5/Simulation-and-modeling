{
  "nbformat": 4,
  "nbformat_minor": 0,
  "metadata": {
    "colab": {
      "name": "round_chase_Sl.ipynb",
      "provenance": [],
      "collapsed_sections": [],
      "authorship_tag": "ABX9TyOZOWfJ9i1VfHyncXPlsBb7",
      "include_colab_link": true
    },
    "kernelspec": {
      "name": "python3",
      "display_name": "Python 3"
    }
  },
  "cells": [
    {
      "cell_type": "markdown",
      "metadata": {
        "id": "view-in-github",
        "colab_type": "text"
      },
      "source": [
        "<a href=\"https://colab.research.google.com/github/shayedashraf/Simulation-and-modeling/blob/master/Round_chase.ipynb\" target=\"_parent\"><img src=\"https://colab.research.google.com/assets/colab-badge.svg\" alt=\"Open In Colab\"/></a>"
      ]
    },
    {
      "cell_type": "code",
      "metadata": {
        "id": "i8431IJh9HUK",
        "colab_type": "code",
        "outputId": "b90448e2-4fe5-458f-e6a0-b0fb677dd30d",
        "colab": {
          "base_uri": "https://localhost:8080/",
          "height": 255
        }
      },
      "source": [
        "import math\n",
        "xa=[10]\n",
        "ya=[10]\n",
        "xb=[30]\n",
        "yb=[10]\n",
        "xc=[30]\n",
        "yc=[30]\n",
        "xd=[10]\n",
        "yd=[30]\n",
        "va=25\n",
        "vb=20\n",
        "vc=15\n",
        "vd=10\n",
        "t=0\n",
        "distance_d=math.sqrt((xd[0]-xc[0])**2 + (yd[0]-yc[0])**2)\n",
        "distance_c=math.sqrt((xb[0]-xc[0])**2 + (yb[0]-yc[0])**2)\n",
        "distance_b=math.sqrt((xd[0]-xb[0])**2 + (yd[0]-yb[0])**2)\n",
        "distance_a=math.sqrt((xd[0]-xa[0])**2 + (yd[0]-ya[0])**2)\n",
        "for t in range (1,13):\n",
        "  #A is chased D\n",
        "  sin_d=(ya[t-1]-yd[t-1])/distance_d\n",
        "  cos_d=(xa[t-1]-xd[t-1])/distance_d\n",
        "  xd_new=xd[t-1]+ vd*cos_d\n",
        "  yd_new=yd[t-1]+ vd*sin_d\n",
        "  xd.append(xd_new)\n",
        "  yd.append(yd_new)\n",
        "\n",
        "  #d is cahsed by b\n",
        "  sin_b=(yd[t-1]-yc[t-1])/distance_b\n",
        "  cos_b=(xd[t-1]-xc[t-1])/distance_b\n",
        "  xb_new=xb[t-1]+ vb*cos_d\n",
        "  yb_new=yb[t-1]+ vb*sin_d\n",
        "  xb.append(xb_new)\n",
        "  yb.append(yb_new)\n",
        "\n",
        "  #B is chased by c\n",
        "  sin_c=(yb[t-1]-ya[t-1])/distance_c\n",
        "  cos_c=(xb[t-1]-xa[t-1])/distance_c\n",
        "  xc_new=xc[t-1]+ vc*cos_b\n",
        "  yc_new=yc[t-1]+ vc*sin_b\n",
        "  xc.append(xc_new)\n",
        "  yc.append(yc_new)\n",
        "  #c is chased by a\n",
        "  sin_a=(yd[t-1]-ya[t-1])/distance_c\n",
        "  cos_a=(xd[t-1]-xa[t-1])/distance_c\n",
        "  xa_new=xa[t-1]+ va*cos_b\n",
        "  ya_new=ya[t-1]+ va*sin_b\n",
        "  xa.append(xc_new)\n",
        "  ya.append(yc_new)\n",
        "\n",
        "  distance_d=math.sqrt((xd[t-1]-xa[t-1])**2 + (yd[t-1]-ya[t-1])**2)\n",
        "  distance_c=math.sqrt((xc[t-1]-xb[t-1])**2 + (yc[t-1]-yb [t-1])**2)\n",
        "  distance_b=math.sqrt((xd[t-1]-xb[t-1])**2 + (yd[t-1]-yb[t-1])**2)\n",
        "  distance_a=math.sqrt((xc[t-1]-xa[t-1])**2 + (yc[t-1]-ya[t-1])**2)\n",
        "\n",
        "  if distance_d < 10:\n",
        "    print(\"D shoot A \"+ str(t))\n",
        "  \n",
        "\n",
        "  if distance_b < 10:\n",
        "    print(\"b shoot d \"+ str(t))\n",
        "\n",
        "  \n",
        "  if distance_c < 10:\n",
        "    print(\"c shoot b \"+ str(t))\n",
        "\n",
        "  if distance_a < 10:\n",
        "    print(\"a shoot c \"+ str(t))\n",
        "\n",
        "   \n",
        "\n",
        "\n",
        "\n"
      ],
      "execution_count": 0,
      "outputs": [
        {
          "output_type": "stream",
          "text": [
            "a shoot c 2\n",
            "D shoot A 3\n",
            "a shoot c 3\n",
            "D shoot A 4\n",
            "a shoot c 4\n",
            "D shoot A 5\n",
            "a shoot c 5\n",
            "a shoot c 6\n",
            "a shoot c 7\n",
            "a shoot c 8\n",
            "a shoot c 9\n",
            "a shoot c 10\n",
            "a shoot c 11\n",
            "a shoot c 12\n"
          ],
          "name": "stdout"
        }
      ]
    }
  ]
}