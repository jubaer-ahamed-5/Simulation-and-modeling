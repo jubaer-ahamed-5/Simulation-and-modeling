{
  "nbformat": 4,
  "nbformat_minor": 0,
  "metadata": {
    "colab": {
      "name": "Mid_monte carlo.ipynb",
      "provenance": []
    },
    "kernelspec": {
      "name": "python3",
      "display_name": "Python 3"
    }
  },
  "cells": [
    {
      "cell_type": "code",
      "metadata": {
        "id": "k1L8IyJCzuK2",
        "colab_type": "code",
        "colab": {}
      },
      "source": [
        "import random\n",
        "import matplotlib.pyplot as plt\n",
        "import numpy as np\n",
        "import math\n",
        "sum=0\n",
        "sum1=0\n",
        "a=0\n",
        "b=5\n",
        "n=5000"
      ],
      "execution_count": 0,
      "outputs": []
    },
    {
      "cell_type": "code",
      "metadata": {
        "id": "tYDhdsE87D-Z",
        "colab_type": "code",
        "colab": {}
      },
      "source": [
        "for i in range(n):\n",
        "  x = random.uniform(a,b)\n",
        "  y = math.sqrt(20 * x)\n",
        "  y1 = y * y\n",
        "  sum = sum + y\n",
        "  sum1 = sum1 + y1\n",
        "  \n",
        "\n"
      ],
      "execution_count": 0,
      "outputs": []
    },
    {
      "cell_type": "code",
      "metadata": {
        "id": "EbFLm6r6NgYs",
        "colab_type": "code",
        "colab": {
          "base_uri": "https://localhost:8080/",
          "height": 51
        },
        "outputId": "4864fd39-96ac-47e8-c61c-be3cc8c192b9"
      },
      "source": [
        "  avg = sum / n\n",
        "  avg1 = sum1 / n\n",
        "  area = (b - a) * avg * 2\n",
        "  print(\"Area of dark portion\",area)\n",
        "  error=(((b - a)/ math.sqrt(n))* math.sqrt((avg1) - ((avg)**2))) * 100\n",
        "  print(error, \"%\")"
      ],
      "execution_count": 96,
      "outputs": [
        {
          "output_type": "stream",
          "text": [
            "Area of dark portion 66.8216887372574\n",
            "16.694755645441415 %\n"
          ],
          "name": "stdout"
        }
      ]
    },
    {
      "cell_type": "code",
      "metadata": {
        "id": "fYQVG_0r9aNq",
        "colab_type": "code",
        "colab": {
          "base_uri": "https://localhost:8080/",
          "height": 267
        },
        "outputId": "b7162b38-8446-487c-e2d2-67624b7f7a8b"
      },
      "source": [
        "n=[100,1000,5000]\n",
        "error=[115.581,38.380,16.664]\n",
        "y=np.arange(len(n))\n",
        "plt.bar(y,error,align='center',alpha=0.6)\n",
        "plt.xticks(y,n)\n",
        "plt.ylim=(0.01,7)\n",
        "plt.xlabel=('n')\n",
        "plt.ylabel=('error')"
      ],
      "execution_count": 97,
      "outputs": [
        {
          "output_type": "display_data",
          "data": {
            "image/png": "[encoded data removed]",
            "text/plain": [
              "<Figure size 432x288 with 1 Axes>"
            ]
          },
          "metadata": {
            "tags": [],
            "needs_background": "light"
          }
        }
      ]
    }
  ]
}