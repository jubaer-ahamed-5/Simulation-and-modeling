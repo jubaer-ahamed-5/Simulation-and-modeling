{
  "nbformat": 4,
  "nbformat_minor": 0,
  "metadata": {
    "kernelspec": {
      "display_name": "Python 3",
      "language": "python",
      "name": "python3"
    },
    "language_info": {
      "codemirror_mode": {
        "name": "ipython",
        "version": 3
      },
      "file_extension": ".py",
      "mimetype": "text/x-python",
      "name": "python",
      "nbconvert_exporter": "python",
      "pygments_lexer": "ipython3",
      "version": "3.7.1rc1"
    },
    "colab": {
      "name": "mid_sl.ipynb",
      "provenance": []
    }
  },
  "cells": [
    {
      "cell_type": "code",
      "metadata": {
        "id": "LN6MsvWhlP1N",
        "colab_type": "code",
        "colab": {}
      },
      "source": [
        "import copy"
      ],
      "execution_count": 0,
      "outputs": []
    },
    {
      "cell_type": "code",
      "metadata": {
        "id": "Ilf2BWS9lP1R",
        "colab_type": "code",
        "colab": {}
      },
      "source": [
        "class DeadAlive:\n",
        "    def __init__(self, _grid):\n",
        "        self.grid = _grid\n",
        "        self.row = len(_grid)\n",
        "        self.column = len(_grid[0])\n",
        "  \n",
        "    def __check_valid(self, x, y):\n",
        "        if x >= 0 and y >= 0 and x < self.row and y < self.column:\n",
        "            return True\n",
        "        return False\n",
        "    \n",
        "    def generate_next_state(self):\n",
        "        dx = [1, -1, 0, 0, 1, -1, 1, -1]\n",
        "        dy = [0, 0, 1, -1, 1, 1, -1, -1]\n",
        "        new_grid = copy.deepcopy(self.grid)\n",
        "        for i in range(self.row):\n",
        "            for j in range(self.column):\n",
        "                count = 0\n",
        "                for k in range(8):\n",
        "                    x = i + dx[k]\n",
        "                    y = j + dy[k]\n",
        "                    if(self.__check_valid(x, y)):\n",
        "\n",
        "                      if self.grid[x][y] is 1:\n",
        "\n",
        "                        count = count + 1\n",
        "                    \n",
        "                if count < 2: \n",
        "\n",
        "                  new_grid[i][j] = 0\n",
        "                \n",
        "                if count is 2:\n",
        "                  new_grid[i][j] = 1\n",
        "                if count > 2:\n",
        "                  new_grid[i][j] = 0\n",
        "                if self.grid[i][j]== 0 and (count==2 or count==3):\n",
        "                  new_grid[i][j] = 1          \n",
        "        self.grid = copy.deepcopy(new_grid)\n",
        "    \n",
        "    def get_grid(self):\n",
        "        return self.grid\n",
        "        "
      ],
      "execution_count": 0,
      "outputs": []
    },
    {
      "cell_type": "code",
      "metadata": {
        "id": "kiqanzoslP1U",
        "colab_type": "code",
        "colab": {}
      },
      "source": [
        "list = [[0, 1, 0, 0, 0], [0, 0, 1, 0, 0], [0, 1, 1, 0, 1], [0, 1, 0, 0, 1], [0, 0, 0, 0, 0]]"
      ],
      "execution_count": 0,
      "outputs": []
    },
    {
      "cell_type": "code",
      "metadata": {
        "id": "OHI7DdlwlP1Z",
        "colab_type": "code",
        "colab": {}
      },
      "source": [
        "obj = DeadAlive(list)"
      ],
      "execution_count": 0,
      "outputs": []
    },
    {
      "cell_type": "code",
      "metadata": {
        "id": "cOs1qKrxlP1c",
        "colab_type": "code",
        "outputId": "a23f819b-e775-4079-f8c0-7482320185a9",
        "colab": {
          "base_uri": "https://localhost:8080/",
          "height": 102
        }
      },
      "source": [
        "obj.get_grid()"
      ],
      "execution_count": 8,
      "outputs": [
        {
          "output_type": "execute_result",
          "data": {
            "text/plain": [
              "[[0, 1, 0, 0, 0],\n",
              " [0, 0, 1, 0, 0],\n",
              " [0, 1, 1, 0, 1],\n",
              " [0, 1, 0, 0, 1],\n",
              " [0, 0, 0, 0, 0]]"
            ]
          },
          "metadata": {
            "tags": []
          },
          "execution_count": 8
        }
      ]
    },
    {
      "cell_type": "code",
      "metadata": {
        "id": "ZbH8URHblP1f",
        "colab_type": "code",
        "colab": {}
      },
      "source": [
        "obj.generate_next_state()"
      ],
      "execution_count": 0,
      "outputs": []
    },
    {
      "cell_type": "code",
      "metadata": {
        "id": "N2hGxIWUlP1i",
        "colab_type": "code",
        "outputId": "4b00baa3-207c-441c-ce1e-def531fdea5f",
        "colab": {
          "base_uri": "https://localhost:8080/",
          "height": 102
        }
      },
      "source": [
        "obj.get_grid()"
      ],
      "execution_count": 10,
      "outputs": [
        {
          "output_type": "execute_result",
          "data": {
            "text/plain": [
              "[[0, 0, 1, 0, 0],\n",
              " [1, 0, 0, 1, 0],\n",
              " [1, 0, 0, 0, 0],\n",
              " [1, 1, 1, 1, 0],\n",
              " [0, 0, 0, 0, 0]]"
            ]
          },
          "metadata": {
            "tags": []
          },
          "execution_count": 10
        }
      ]
    },
    {
      "cell_type": "code",
      "metadata": {
        "id": "uWQ-5tjrlP1l",
        "colab_type": "code",
        "outputId": "484b3403-f81f-4094-c018-1ec8b3b8c98d",
        "colab": {
          "base_uri": "https://localhost:8080/",
          "height": 102
        }
      },
      "source": [
        "obj.generate_next_state()\n",
        "obj.get_grid()"
      ],
      "execution_count": 11,
      "outputs": [
        {
          "output_type": "execute_result",
          "data": {
            "text/plain": [
              "[[0, 1, 0, 1, 0],\n",
              " [0, 1, 1, 0, 0],\n",
              " [0, 0, 0, 1, 1],\n",
              " [1, 0, 1, 0, 0],\n",
              " [1, 1, 1, 1, 0]]"
            ]
          },
          "metadata": {
            "tags": []
          },
          "execution_count": 11
        }
      ]
    },
    {
      "cell_type": "code",
      "metadata": {
        "id": "DVw2z5JrlP1x",
        "colab_type": "code",
        "outputId": "d6a45be4-44a1-4364-a8fb-ce48869c235b",
        "colab": {
          "base_uri": "https://localhost:8080/",
          "height": 1000
        }
      },
      "source": [
        "obj = DeadAlive(list)\n",
        "for time in range(20):\n",
        "    print('time-', time)\n",
        "    p = obj.get_grid()\n",
        "    #print(p)\n",
        "    for i in p:\n",
        "        for j in i:\n",
        "            print(j, end=' ')\n",
        "        print('')\n",
        "    obj.generate_next_state()\n",
        "    "
      ],
      "execution_count": 12,
      "outputs": [
        {
          "output_type": "stream",
          "text": [
            "time- 0\n",
            "0 1 0 0 0 \n",
            "0 0 1 0 0 \n",
            "0 1 1 0 1 \n",
            "0 1 0 0 1 \n",
            "0 0 0 0 0 \n",
            "time- 1\n",
            "0 0 1 0 0 \n",
            "1 0 0 1 0 \n",
            "1 0 0 0 0 \n",
            "1 1 1 1 0 \n",
            "0 0 0 0 0 \n",
            "time- 2\n",
            "0 1 0 1 0 \n",
            "0 1 1 0 0 \n",
            "0 0 0 1 1 \n",
            "1 0 1 0 0 \n",
            "1 1 1 1 0 \n",
            "time- 3\n",
            "1 1 0 0 0 \n",
            "1 1 0 0 1 \n",
            "1 0 0 0 0 \n",
            "1 0 0 0 1 \n",
            "1 0 0 1 0 \n",
            "time- 4\n",
            "0 0 1 0 0 \n",
            "0 0 1 0 0 \n",
            "0 0 0 1 1 \n",
            "1 1 0 1 0 \n",
            "0 1 0 0 1 \n",
            "time- 5\n",
            "0 1 0 1 0 \n",
            "0 1 1 0 1 \n",
            "1 1 0 0 1 \n",
            "1 1 0 0 0 \n",
            "1 1 1 1 0 \n",
            "time- 6\n",
            "1 1 0 1 1 \n",
            "0 0 0 0 1 \n",
            "0 0 0 1 0 \n",
            "0 0 0 1 1 \n",
            "0 0 0 0 0 \n",
            "time- 7\n",
            "0 0 1 1 1 \n",
            "1 1 1 0 0 \n",
            "0 0 1 0 0 \n",
            "0 0 1 1 1 \n",
            "0 0 0 1 1 \n",
            "time- 8\n",
            "1 0 0 0 0 \n",
            "0 0 0 0 1 \n",
            "1 0 0 0 1 \n",
            "0 1 0 0 0 \n",
            "0 0 1 0 0 \n",
            "time- 9\n",
            "0 0 0 0 0 \n",
            "1 1 0 1 0 \n",
            "0 1 0 1 0 \n",
            "1 1 1 1 0 \n",
            "0 1 0 0 0 \n",
            "time- 10\n",
            "1 1 1 0 0 \n",
            "1 1 0 0 1 \n",
            "0 0 0 0 1 \n",
            "0 0 0 1 1 \n",
            "1 0 0 1 0 \n",
            "time- 11\n",
            "0 0 1 1 0 \n",
            "0 0 1 1 0 \n",
            "1 1 1 0 0 \n",
            "0 0 1 0 0 \n",
            "0 0 1 1 1 \n",
            "time- 12\n",
            "0 1 0 0 1 \n",
            "1 0 0 0 1 \n",
            "0 0 0 0 0 \n",
            "1 0 0 0 1 \n",
            "0 1 1 0 0 \n",
            "time- 13\n",
            "1 0 0 1 0 \n",
            "0 1 0 1 0 \n",
            "1 1 0 1 1 \n",
            "0 1 1 1 0 \n",
            "1 1 0 1 0 \n",
            "time- 14\n",
            "0 1 1 0 1 \n",
            "0 0 0 0 0 \n",
            "0 0 0 0 0 \n",
            "0 0 0 0 0 \n",
            "1 0 0 1 1 \n",
            "time- 15\n",
            "0 0 0 1 0 \n",
            "0 1 1 1 0 \n",
            "0 0 0 0 0 \n",
            "0 0 0 1 1 \n",
            "0 0 0 0 0 \n",
            "time- 16\n",
            "0 1 0 1 1 \n",
            "0 0 0 1 1 \n",
            "0 1 0 0 1 \n",
            "0 0 0 0 0 \n",
            "0 0 0 1 1 \n",
            "time- 17\n",
            "0 0 1 0 0 \n",
            "1 1 0 0 0 \n",
            "0 0 1 1 1 \n",
            "0 0 1 1 1 \n",
            "0 0 0 0 0 \n",
            "time- 18\n",
            "1 1 0 0 0 \n",
            "0 0 0 0 1 \n",
            "1 0 0 0 0 \n",
            "0 1 0 0 0 \n",
            "0 0 1 1 1 \n",
            "time- 19\n",
            "0 0 0 0 0 \n",
            "1 1 0 0 0 \n",
            "0 1 0 0 0 \n",
            "1 1 1 1 1 \n",
            "0 1 1 1 0 \n"
          ],
          "name": "stdout"
        }
      ]
    },
    {
      "cell_type": "code",
      "metadata": {
        "id": "hhEuxrcdlP1z",
        "colab_type": "code",
        "colab": {}
      },
      "source": [
        ""
      ],
      "execution_count": 0,
      "outputs": []
    }
  ]
}