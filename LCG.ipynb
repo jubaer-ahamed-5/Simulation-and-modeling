{
  "nbformat": 4,
  "nbformat_minor": 0,
  "metadata": {
    "colab": {
      "name": "LCG sl.ipynb",
      "provenance": [],
      "collapsed_sections": [],
      "authorship_tag": "ABX9TyPTdK+vDIS0OwDwWT5/YJ7I",
      "include_colab_link": true
    },
    "kernelspec": {
      "name": "python3",
      "display_name": "Python 3"
    }
  },
  "cells": [
    {
      "cell_type": "markdown",
      "metadata": {
        "id": "view-in-github",
        "colab_type": "text"
      },
      "source": [
        "<a href=\"https://colab.research.google.com/github/shayedashraf/Simulation-and-modeling/blob/master/LCG.ipynb\" target=\"_parent\"><img src=\"https://colab.research.google.com/assets/colab-badge.svg\" alt=\"Open In Colab\"/></a>"
      ]
    },
    {
      "cell_type": "code",
      "metadata": {
        "id": "fv084pQjPmVJ",
        "colab_type": "code",
        "outputId": "e2bb92e4-499f-4dcb-d697-077e5c222d5d",
        "colab": {
          "base_uri": "https://localhost:8080/",
          "height": 501
        }
      },
      "source": [
        "import matplotlib.pyplot as plt; plt.rcdefaults()\n",
        "import numpy as np\n",
        "import matplotlib.pyplot as plt\n",
        "\n",
        "pu = []\n",
        "\n",
        "a=5\n",
        "c=3\n",
        "z=[3,5]\n",
        "m=16\n",
        "\n",
        "for i in range (2,50):\n",
        "  pz=(3*z[i-1] +5*z[i-2]*z[i-2])% m\n",
        "  z.append(pz)\n",
        "  pu.append(pz/m)\n",
        "\n",
        "print(pu)\n",
        "x = np.unique(pu)\n",
        "print(\"unique value\",np.size(x))\n",
        "plt.bar(range(2,50),pu)\n",
        "plt.show\n"
      ],
      "execution_count": 0,
      "outputs": [
        {
          "output_type": "stream",
          "text": [
            "[0.75, 0.0625, 0.1875, 0.875, 0.4375, 0.5625, 0.0, 0.3125, 0.9375, 0.625, 0.1875, 0.8125, 0.25, 0.5625, 0.6875, 0.375, 0.9375, 0.0625, 0.5, 0.8125, 0.4375, 0.125, 0.6875, 0.3125, 0.75, 0.0625, 0.1875, 0.875, 0.4375, 0.5625, 0.0, 0.3125, 0.9375, 0.625, 0.1875, 0.8125, 0.25, 0.5625, 0.6875, 0.375, 0.9375, 0.0625, 0.5, 0.8125, 0.4375, 0.125, 0.6875, 0.3125]\n",
            "unique value 16\n"
          ],
          "name": "stdout"
        },
        {
          "output_type": "execute_result",
          "data": {
            "text/plain": [
              "<function matplotlib.pyplot.show>"
            ]
          },
          "metadata": {
            "tags": []
          },
          "execution_count": 32
        },
        {
          "output_type": "display_data",
          "data": {
            "image/png": "[encoded data removed]",
            "text/plain": [
              "<Figure size 640x480 with 1 Axes>"
            ]
          },
          "metadata": {
            "tags": []
          }
        }
      ]
    }
  ]
}