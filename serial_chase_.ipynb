{
  "nbformat": 4,
  "nbformat_minor": 0,
  "metadata": {
    "colab": {
      "name": "serial chase .ipynb",
      "provenance": [],
      "authorship_tag": "ABX9TyPqNcy7IfKPfZJY80PQkQXB",
      "include_colab_link": true
    },
    "kernelspec": {
      "name": "python3",
      "display_name": "Python 3"
    }
  },
  "cells": [
    {
      "cell_type": "markdown",
      "metadata": {
        "id": "view-in-github",
        "colab_type": "text"
      },
      "source": [
        "<a href=\"https://colab.research.google.com/github/shayedashraf/Simulation-and-modeling/blob/master/serial_chase_.ipynb\" target=\"_parent\"><img src=\"https://colab.research.google.com/assets/colab-badge.svg\" alt=\"Open In Colab\"/></a>"
      ]
    },
    {
      "cell_type": "code",
      "metadata": {
        "id": "8_mJiIM90-7W",
        "colab_type": "code",
        "colab": {
          "base_uri": "https://localhost:8080/",
          "height": 87
        },
        "outputId": "470bc625-327c-4d6b-f7d9-1a24f9356a09"
      },
      "source": [
        "import math\n",
        "x_t=[100,110,120,129,140,149,158,168,179,188,198,209,219]\n",
        "y_t=[0,3,6,10,15,20,26,32,37,34,30,27,23]\n",
        "x_d=[0]\n",
        "y_d=[60]\n",
        "s=20\n",
        "t=0\n",
        "distance=math.sqrt((x_t[0]-x_d[0])**2+(y_t[0]-y_d[0])**2)\n",
        "for t in range(1,13):\n",
        "   sin=(y_t[t-1]-y_d[t-1])/distance\n",
        "   cos=(x_t[t-1]-x_d[t-1])/distance\n",
        "   xd_t=x_d[t-1]+s*cos\n",
        "   yd_t=y_d[t-1]+s*sin\n",
        "   x_d.append(xd_t)\n",
        "   y_d.append(yd_t)\n",
        "   distance=math.sqrt((x_t[t]-x_d[t])**2+(y_t[t]-y_d[t])**2)\n",
        "   if distance<10:\n",
        "     break\n",
        "if t<=12:\n",
        "  print(\"Target Destroyed\")\n",
        "else:\n",
        "  print(\"Target Escaped\")\n",
        "print(x_d)\n",
        "print(y_d)\n"
      ],
      "execution_count": 2,
      "outputs": [
        {
          "output_type": "stream",
          "text": [
            "Target Destroyed\n",
            "[0, 17.149858514250884, 35.01641115673864, 53.53071140145425, 72.6508284793503, 92.32589472576817, 112.28340693274177, 132.2215856640328, 151.7359467869743, 170.7992953406546, 190.79394651538675]\n",
            "[60, 49.71008489144947, 40.721965139620735, 33.15752950644071, 27.29057774870928, 23.700066893821308, 22.397106223463226, 23.96842060292196, 28.349026721192537, 34.39788958299515, 33.935369960944364]\n"
          ],
          "name": "stdout"
        }
      ]
    }
  ]
}