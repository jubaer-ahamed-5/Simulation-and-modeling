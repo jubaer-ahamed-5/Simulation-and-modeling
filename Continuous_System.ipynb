{
  "nbformat": 4,
  "nbformat_minor": 0,
  "metadata": {
    "colab": {
      "name": "sl_Continuous Systems.ipynb",
      "provenance": [],
      "collapsed_sections": [],
      "authorship_tag": "ABX9TyMAPefjn3x9rnB68deGv+AK",
      "include_colab_link": true
    },
    "kernelspec": {
      "name": "python3",
      "display_name": "Python 3"
    }
  },
  "cells": [
    {
      "cell_type": "markdown",
      "metadata": {
        "id": "view-in-github",
        "colab_type": "text"
      },
      "source": [
        "<a href=\"https://colab.research.google.com/github/shayedashraf/Simulation-and-modeling/blob/master/sl_Continuous_Systems.ipynb\" target=\"_parent\"><img src=\"https://colab.research.google.com/assets/colab-badge.svg\" alt=\"Open In Colab\"/></a>"
      ]
    },
    {
      "cell_type": "code",
      "metadata": {
        "id": "20IHrMk8AEke",
        "colab_type": "code",
        "outputId": "4ed7d445-6a66-4056-f19f-59b571e9a9a5",
        "colab": {
          "base_uri": "https://localhost:8080/",
          "height": 370
        }
      },
      "source": [
        "import math\n",
        "import matplotlib.pyplot as plt\n",
        "plt.plot()\n",
        "x_t=[100,110,120,129,140,149,158,168,179,188,198 ,209 ,219 ,226 ,234 ,240]\n",
        "y_t=[0,3,6,10,15,20,26,32,37,34,30 ,27 ,23 ,19 ,16 ,14]\n",
        "x_d=[0]\n",
        "y_d=[60]\n",
        "x_a=[10]\n",
        "y_a=[150]\n",
        "s1=30\n",
        "s=20\n",
        "t=0\n",
        "distance=math.sqrt((x_t[0]-x_d[0])**2 + (y_t[0]-y_d[0])**2)\n",
        "distance_ad=math.sqrt((x_d[0] - x_a[0])**2 +(y_d[0] - y_a[0])**2)\n",
        "\n",
        "for t in range(0,13):\n",
        "  distance=math.sqrt((x_t[t]-x_d[t])**2 + (y_t[t]-y_d[t])**2)\n",
        "  distance_ad=math.sqrt((x_d[t] - x_a[t])**2 +(y_d[t] - y_a[t])**2)\n",
        " \n",
        "  if (distance_ad<10):\n",
        "    print(\"D shoots T at time\" ,str(t) )\n",
        "  if(distance<10):\n",
        "    print(\"A shoots D at time\")\n",
        "  sin=(y_t[t-1]-y_d[t-1])/distance\n",
        "  cos=(x_t[t-1]-x_d[t-1])/distance\n",
        "  xd_t=x_d[t-1] +s*cos\n",
        "  yd_t=y_d[t-1] +s*sin\n",
        "  x_d.append(xd_t)\n",
        "  y_d.append(yd_t)\n",
        "\n",
        "\n",
        "  sin_d= (y_d[t-1] - y_a[t-1])/distance_ad\n",
        "  cos_d=(x_d[t-1] - x_a[t-1])/distance_ad\n",
        "  xd_a=(x_a[t-1] +s1*cos_d)\n",
        "  yd_a=(y_a[t-1] -s1*sin_d)\n",
        "  x_a.append(xd_a)\n",
        "  y_a.append(yd_a)\n",
        "\n",
        "print(x_d)\n",
        "print(y_d)\n",
        "print()\n",
        "print(x_a)\n",
        "print(y_a)"
      ],
      "execution_count": 0,
      "outputs": [
        {
          "output_type": "stream",
          "text": [
            "[0, 41.159660434202124, 23.651025444513397, 54.366531644621254, 47.3011965692669, 70.06957832310161, 70.332382337698, 88.04927248343475, 92.26271843509807, 106.41782393103361, 113.52110322604871, 125.72931336694052, 133.7656183500875, 145.18134923681754]\n",
            "[60, 52.11106508344459, 45.809384733291964, 42.68921278500224, 36.03762778769725, 35.811330173391404, 30.810791024182706, 32.2096405492141, 29.607356199923196, 32.16147596918643, 31.41921453452958, 32.59667688082555, 31.079114092813125, 31.289292928082823]\n",
            "\n",
            "[10, 20.323026561168867, 7.72682971604892, 25.297465855095126, 10.483345232739307, 30.73826270938816, 15.660085334021696, 36.91128878899431, 22.18219504397556, 43.955248335112564, 29.506000494609427, 51.72858787737277, 37.30425855955275, 60.09300182621919]\n",
            "[150, 182.43007340602963, 170.4585325555597, 213.54181629576541, 192.03559151497296, 245.5199443326172, 213.96954162966065, 278.43358386191903, 235.81939121082385, 312.34949862194827, 257.36969867029194, 347.21832391413875, 278.3423586790762, 382.7804846314073]\n"
          ],
          "name": "stdout"
        },
        {
          "output_type": "display_data",
          "data": {
            "image/png": "[encoded data removed]",
            "text/plain": [
              "<Figure size 432x288 with 1 Axes>"
            ]
          },
          "metadata": {
            "tags": []
          }
        }
      ]
    }
  ]
}
