{
  "nbformat": 4,
  "nbformat_minor": 0,
  "metadata": {
    "colab": {
      "name": "composite LCG sl.ipynb",
      "provenance": [],
      "authorship_tag": "ABX9TyMhAZdZtMN+aHmqqbeKZVfr",
      "include_colab_link": true
    },
    "kernelspec": {
      "name": "python3",
      "display_name": "Python 3"
    }
  },
  "cells": [
    {
      "cell_type": "markdown",
      "metadata": {
        "id": "view-in-github",
        "colab_type": "text"
      },
      "source": [
        "<a href=\"https://colab.research.google.com/github/shayedashraf/Simulation-and-modeling/blob/master/Composite%20LCG.ipynb\" target=\"_parent\"><img src=\"https://colab.research.google.com/assets/colab-badge.svg\" alt=\"Open In Colab\"/></a>"
      ]
    },
    {
      "cell_type": "code",
      "metadata": {
        "id": "9QWDMQDHZE1Q",
        "colab_type": "code",
        "outputId": "017134dc-3b82-4061-b81d-135eddd54f0d",
        "colab": {
          "base_uri": "https://localhost:8080/",
          "height": 552
        }
      },
      "source": [
        "import matplotlib.pyplot as plt\n",
        "import numpy as np\n",
        "z1=[3,7]\n",
        "pu =[]\n",
        "\n",
        "for i in range (2,50):\n",
        "  pz=(2*z1[i-1]*z1[i-1] +z1[i-2])% 16\n",
        "  z1.append(pz)\n",
        "\n",
        "print(pu)\n",
        "z2=[5]\n",
        "for i in range(1,50):\n",
        "  pz2=(5*z2[i-1]+7)% 12\n",
        "  z2.append(pz2)\n",
        "\n",
        "\n",
        "z3=[]\n",
        "for i in range (0,50):\n",
        "  pz3=(z1[i]+2*z2[i])%16\n",
        "  z3.append(pz3)\n",
        "  pu.append(pz3/m)\n",
        "\n",
        "print(z3)\n",
        "print(pu)\n",
        "x = np.unique(pu)\n",
        "print(\"Cycle length\",len(np.unique(pu)))\n",
        "print(\"Unique value\",np.size(x))\n",
        "plt.bar(range(0,50),pu)\n",
        "plt.show\n",
        "\n",
        "\n"
      ],
      "execution_count": 0,
      "outputs": [
        {
          "output_type": "stream",
          "text": [
            "[]\n",
            "[13, 7, 11, 13, 1, 11, 15, 1, 5, 15, 3, 5, 9, 3, 7, 9, 13, 7, 11, 13, 1, 11, 15, 1, 5, 15, 3, 5, 9, 3, 7, 9, 13, 7, 11, 13, 1, 11, 15, 1, 5, 15, 3, 5, 9, 3, 7, 9, 13, 7]\n",
            "[0.8125, 0.4375, 0.6875, 0.8125, 0.0625, 0.6875, 0.9375, 0.0625, 0.3125, 0.9375, 0.1875, 0.3125, 0.5625, 0.1875, 0.4375, 0.5625, 0.8125, 0.4375, 0.6875, 0.8125, 0.0625, 0.6875, 0.9375, 0.0625, 0.3125, 0.9375, 0.1875, 0.3125, 0.5625, 0.1875, 0.4375, 0.5625, 0.8125, 0.4375, 0.6875, 0.8125, 0.0625, 0.6875, 0.9375, 0.0625, 0.3125, 0.9375, 0.1875, 0.3125, 0.5625, 0.1875, 0.4375, 0.5625, 0.8125, 0.4375]\n",
            "Cycle length 8\n",
            "Unique value 8\n"
          ],
          "name": "stdout"
        },
        {
          "output_type": "execute_result",
          "data": {
            "text/plain": [
              "<function matplotlib.pyplot.show>"
            ]
          },
          "metadata": {
            "tags": []
          },
          "execution_count": 19
        },
        {
          "output_type": "display_data",
          "data": {
            "image/png": "[encoded data removed]",
            "text/plain": [
              "<Figure size 640x480 with 1 Axes>"
            ]
          },
          "metadata": {
            "tags": []
          }
        }
      ]
    }
  ]
}