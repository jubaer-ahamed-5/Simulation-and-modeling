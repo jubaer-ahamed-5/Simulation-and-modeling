{
  "nbformat": 4,
  "nbformat_minor": 0,
  "metadata": {
    "colab": {
      "name": " Area estimation.ipynb",
      "provenance": [],
      "authorship_tag": "ABX9TyOAwiDMyZbzxeHiwwzaSmIT",
      "include_colab_link": true
    },
    "kernelspec": {
      "name": "python3",
      "display_name": "Python 3"
    }
  },
  "cells": [
    {
      "cell_type": "markdown",
      "metadata": {
        "id": "view-in-github",
        "colab_type": "text"
      },
      "source": [
        "<a href=\"https://colab.research.google.com/github/shayedashraf/Simulation-and-modeling/blob/master/Area_estimation.ipynb\" target=\"_parent\"><img src=\"https://colab.research.google.com/assets/colab-badge.svg\" alt=\"Open In Colab\"/></a>"
      ]
    },
    {
      "cell_type": "code",
      "metadata": {
        "id": "FDoBSU8DzBfq",
        "colab_type": "code",
        "colab": {
          "base_uri": "https://localhost:8080/",
          "height": 298
        },
        "outputId": "c60d9b9b-fcdc-48ff-91d2-363158ab8239"
      },
      "source": [
        "#@title Area estimation { form-width: \"200px\" }\n",
        "import random\n",
        "import matplotlib.pyplot as plt\n",
        "import numpy as np\n",
        "import decimal\n",
        "\n",
        "n=10000\n",
        "a=0\n",
        "b=5\n",
        "sum=0\n",
        "sum1=0\n",
        "for i in range(0,n,1):\n",
        "  x=random.uniform(a,b)\n",
        "  f=(25-x**2)**.5\n",
        "  f1=f*f\n",
        "  sum=sum+f\n",
        "  sum1=sum1+f1\n",
        "\n",
        "avg=sum/n\n",
        "avg1=sum1/n\n",
        "int_value=(b-a)*avg*4\n",
        "print(\"integration value \",int_value)\n",
        "error=((b-a)/(n**0.5))*((avg1-avg**2)**0.5)*100\n",
        "print(error,\"%\")\n",
        "\n",
        "n=[10,100,1000,10000]\n",
        "error=[17.2479,5.0043,1.6281,0.5164]\n",
        "y=np.arange(len(n))\n",
        "plt.bar(y,error,align='center',alpha=0.6)\n",
        "plt.xticks(y,n)\n",
        "plt.ylim=(0.01,7)\n",
        "plt.xlabel=('n')\n",
        "plt.ylabel=('error')"
      ],
      "execution_count": 3,
      "outputs": [
        {
          "output_type": "stream",
          "text": [
            "integration value  78.58862701083918\n",
            "5.583825807012225 %\n"
          ],
          "name": "stdout"
        },
        {
          "output_type": "display_data",
          "data": {
            "image/png": "[encoded data removed]",
            "text/plain": [
              "<Figure size 432x288 with 1 Axes>"
            ]
          },
          "metadata": {
            "tags": []
          }
        }
      ]
    }
  ]
}